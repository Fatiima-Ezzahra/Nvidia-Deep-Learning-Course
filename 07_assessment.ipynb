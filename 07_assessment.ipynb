{
 "cells": [
  {
   "cell_type": "markdown",
   "metadata": {},
   "source": [
    "<img src=\"./images/DLI_Header.png\" style=\"width: 400px;\">"
   ]
  },
  {
   "cell_type": "markdown",
   "metadata": {},
   "source": [
    "# Assessment"
   ]
  },
  {
   "cell_type": "markdown",
   "metadata": {},
   "source": [
    "Congratulations on going through today's course! Hopefully, you've learned some valuable skills along the way and had fun doing it. Now it's time to put those skills to the test. In this assessment, you will train a new model that is able to recognize fresh and rotten fruit. You will need to get the model to a validation accuracy of `92%` in order to pass the assessment, though we challenge you to do even better if you can. You will have the use the skills that you learned in the previous exercises. Specifically, we suggest using some combination of transfer learning, data augmentation, and fine tuning. Once you have trained the model to be at least 92% accurate on the validation dataset, save your model, and then assess its accuracy. Let's get started! "
   ]
  },
  {
   "cell_type": "markdown",
   "metadata": {},
   "source": [
    "## The Dataset"
   ]
  },
  {
   "cell_type": "markdown",
   "metadata": {},
   "source": [
    "In this exercise, you will train a model to recognize fresh and rotten fruits. The dataset comes from [Kaggle](https://www.kaggle.com/sriramr/fruits-fresh-and-rotten-for-classification), a great place to go if you're interested in starting a project after this class. The dataset structure is in the `data/fruits` folder. There are 6 categories of fruits: fresh apples, fresh oranges, fresh bananas, rotten apples, rotten oranges, and rotten bananas. This will mean that your model will require an output layer of 6 neurons to do the categorization successfully. You'll also need to compile the model with `categorical_crossentropy`, as we have more than two categories."
   ]
  },
  {
   "cell_type": "markdown",
   "metadata": {},
   "source": [
    "<img src=\"./images/fruits.png\" style=\"width: 600px;\">"
   ]
  },
  {
   "cell_type": "markdown",
   "metadata": {},
   "source": [
    "## Load ImageNet Base Model"
   ]
  },
  {
   "cell_type": "markdown",
   "metadata": {},
   "source": [
    "We encourage you to start with a model pretrained on ImageNet. Load the model with the correct weights, set an input shape, and choose to remove the last layers of the model. Remember that images have three dimensions: a height, and width, and a number of channels. Because these pictures are in color, there will be three channels for red, green, and blue. We've filled in the input shape for you. This cannot be changed or the assessment will fail. If you need a reference for setting up the pretrained model, please take a look at [notebook 05b](05b_presidential_doggy_door.ipynb) where we implemented transfer learning."
   ]
  },
  {
   "cell_type": "code",
   "execution_count": 1,
   "metadata": {},
   "outputs": [
    {
     "name": "stdout",
     "output_type": "stream",
     "text": [
      "Downloading data from https://storage.googleapis.com/tensorflow/keras-applications/vgg16/vgg16_weights_tf_dim_ordering_tf_kernels_notop.h5\n",
      "58892288/58889256 [==============================] - 2s 0us/step\n"
     ]
    }
   ],
   "source": [
    "from tensorflow import keras\n",
    "\n",
    "base_model = keras.applications.VGG16(\n",
    "    weights='imagenet',\n",
    "    input_shape=(224, 224, 3),\n",
    "    include_top=False)"
   ]
  },
  {
   "cell_type": "markdown",
   "metadata": {},
   "source": [
    "## Freeze Base Model"
   ]
  },
  {
   "cell_type": "markdown",
   "metadata": {},
   "source": [
    "Next, we suggest freezing the base model, as done in [notebook 05b](05b_presidential_doggy_door.ipynb). This is done so that all the learning from the ImageNet dataset does not get destroyed in the initial training."
   ]
  },
  {
   "cell_type": "code",
   "execution_count": 2,
   "metadata": {},
   "outputs": [],
   "source": [
    "# Freeze base model\n",
    "base_model.trainable = False"
   ]
  },
  {
   "cell_type": "markdown",
   "metadata": {},
   "source": [
    "## Add Layers to Model"
   ]
  },
  {
   "cell_type": "markdown",
   "metadata": {},
   "source": [
    "Now it's time to add layers to the pretrained model. [Notebook 05b](05b_presidential_doggy_door.ipynb) can be used as a guide. Pay close attention to the last dense layer and make sure it has the correct number of neurons to classify the different types of fruit."
   ]
  },
  {
   "cell_type": "code",
   "execution_count": 4,
   "metadata": {},
   "outputs": [],
   "source": [
    "# Create inputs with correct shape\n",
    "inputs = keras.Input(shape=(224, 224, 3))\n",
    "\n",
    "x = base_model(inputs, training=False)\n",
    "\n",
    "# Add pooling layer or flatten layer\n",
    "x = keras.layers.GlobalAveragePooling2D()(x)\n",
    "\n",
    "# Add final dense layer\n",
    "outputs = keras.layers.Dense(6, activation = 'softmax')(x)\n",
    "\n",
    "# Combine inputs and outputs to create model\n",
    "model = keras.Model(inputs, outputs)"
   ]
  },
  {
   "cell_type": "code",
   "execution_count": 5,
   "metadata": {},
   "outputs": [
    {
     "name": "stdout",
     "output_type": "stream",
     "text": [
      "Model: \"model\"\n",
      "_________________________________________________________________\n",
      "Layer (type)                 Output Shape              Param #   \n",
      "=================================================================\n",
      "input_2 (InputLayer)         [(None, 224, 224, 3)]     0         \n",
      "_________________________________________________________________\n",
      "vgg16 (Model)                (None, 7, 7, 512)         14714688  \n",
      "_________________________________________________________________\n",
      "global_average_pooling2d (Gl (None, 512)               0         \n",
      "_________________________________________________________________\n",
      "dense (Dense)                (None, 6)                 3078      \n",
      "=================================================================\n",
      "Total params: 14,717,766\n",
      "Trainable params: 3,078\n",
      "Non-trainable params: 14,714,688\n",
      "_________________________________________________________________\n"
     ]
    }
   ],
   "source": [
    "model.summary()"
   ]
  },
  {
   "cell_type": "markdown",
   "metadata": {},
   "source": [
    "## Compile Model"
   ]
  },
  {
   "cell_type": "markdown",
   "metadata": {},
   "source": [
    "Now it's time to compile the model with loss and metrics options. Remember that we're training on a number of different categories, rather than a binary classification problem."
   ]
  },
  {
   "cell_type": "code",
   "execution_count": 6,
   "metadata": {},
   "outputs": [],
   "source": [
    "model.compile(loss = \"categorical_crossentropy\" , metrics = ['accuracy'])"
   ]
  },
  {
   "cell_type": "markdown",
   "metadata": {},
   "source": [
    "## Augment the Data"
   ]
  },
  {
   "cell_type": "markdown",
   "metadata": {},
   "source": [
    "If you'd like, try to augment the data to improve the dataset. Feel free to look at [notebook 04a](04a_asl_augmentation.ipynb) and [notebook 05b](05b_presidential_doggy_door.ipynb) for augmentation examples. There is also documentation for the [Keras ImageDataGenerator class](https://keras.io/api/preprocessing/image/#imagedatagenerator-class). This step is optional, but it may be helpful to get to 92% accuracy."
   ]
  },
  {
   "cell_type": "code",
   "execution_count": 7,
   "metadata": {},
   "outputs": [],
   "source": [
    "from tensorflow.keras.preprocessing.image import ImageDataGenerator\n",
    "\n",
    "datagen = ImageDataGenerator(\n",
    "    samplewise_center=True,  # set each sample mean to 0\n",
    "    rotation_range=10,  # randomly rotate images in the range (degrees, 0 to 180)\n",
    "    zoom_range=0.1,  # Randomly zoom image\n",
    "    width_shift_range=0.1,  # randomly shift images horizontally (fraction of total width)\n",
    "    height_shift_range=0.1,  # randomly shift images vertically (fraction of total height)\n",
    "    horizontal_flip=True,  # randomly flip images horizontally\n",
    "    vertical_flip=True, # randomly flip images vertically\n",
    ")"
   ]
  },
  {
   "cell_type": "markdown",
   "metadata": {},
   "source": [
    "## Load Dataset"
   ]
  },
  {
   "cell_type": "markdown",
   "metadata": {},
   "source": [
    "Now it's time to load the train and validation datasets. Pick the right folders, as well as the right `target_size` of the images (it needs to match the height and width input of the model you've created). If you'd like a reference, you can check out [notebook 05b](05b_presidential_doggy_door.ipynb)."
   ]
  },
  {
   "cell_type": "code",
   "execution_count": 8,
   "metadata": {},
   "outputs": [
    {
     "name": "stdout",
     "output_type": "stream",
     "text": [
      "Found 1182 images belonging to 6 classes.\n",
      "Found 329 images belonging to 6 classes.\n"
     ]
    }
   ],
   "source": [
    "# load and iterate training dataset\n",
    "train_it = datagen.flow_from_directory('data/fruits/train/', \n",
    "                                       target_size=(244, 244), \n",
    "                                       color_mode='rgb', \n",
    "                                       class_mode=\"categorical\")\n",
    "# load and iterate validation dataset\n",
    "valid_it = datagen.flow_from_directory('data/fruits/valid/', \n",
    "                                      target_size=(244, 244), \n",
    "                                      color_mode='rgb', \n",
    "                                      class_mode=\"categorical\")"
   ]
  },
  {
   "cell_type": "markdown",
   "metadata": {},
   "source": [
    "## Train the Model"
   ]
  },
  {
   "cell_type": "markdown",
   "metadata": {},
   "source": [
    "Time to train the model! Pass the `train` and `valid` iterators into the `fit` function, as well as setting your desired number of epochs."
   ]
  },
  {
   "cell_type": "code",
   "execution_count": 9,
   "metadata": {},
   "outputs": [
    {
     "name": "stdout",
     "output_type": "stream",
     "text": [
      "Epoch 1/30\n",
      "37/36 [==============================] - 33s 888ms/step - loss: 2.6872 - accuracy: 0.4442 - val_loss: 1.2363 - val_accuracy: 0.6292\n",
      "Epoch 2/30\n",
      "37/36 [==============================] - 21s 579ms/step - loss: 0.8117 - accuracy: 0.7428 - val_loss: 0.6507 - val_accuracy: 0.8267\n",
      "Epoch 3/30\n",
      "37/36 [==============================] - 21s 577ms/step - loss: 0.4121 - accuracy: 0.8629 - val_loss: 0.4109 - val_accuracy: 0.8723\n",
      "Epoch 4/30\n",
      "37/36 [==============================] - 21s 573ms/step - loss: 0.2982 - accuracy: 0.8993 - val_loss: 0.2958 - val_accuracy: 0.9058\n",
      "Epoch 5/30\n",
      "37/36 [==============================] - 21s 579ms/step - loss: 0.2021 - accuracy: 0.9255 - val_loss: 0.2254 - val_accuracy: 0.9301\n",
      "Epoch 6/30\n",
      "37/36 [==============================] - 22s 584ms/step - loss: 0.2006 - accuracy: 0.9349 - val_loss: 0.2426 - val_accuracy: 0.9210\n",
      "Epoch 7/30\n",
      "37/36 [==============================] - 21s 577ms/step - loss: 0.1369 - accuracy: 0.9526 - val_loss: 0.2750 - val_accuracy: 0.8906\n",
      "Epoch 8/30\n",
      "37/36 [==============================] - 21s 577ms/step - loss: 0.1174 - accuracy: 0.9611 - val_loss: 0.1569 - val_accuracy: 0.9544\n",
      "Epoch 9/30\n",
      "37/36 [==============================] - 21s 575ms/step - loss: 0.1336 - accuracy: 0.9552 - val_loss: 0.1892 - val_accuracy: 0.9422\n",
      "Epoch 10/30\n",
      "37/36 [==============================] - 22s 582ms/step - loss: 0.0820 - accuracy: 0.9763 - val_loss: 0.1699 - val_accuracy: 0.9422\n",
      "Epoch 11/30\n",
      "37/36 [==============================] - 21s 572ms/step - loss: 0.0882 - accuracy: 0.9687 - val_loss: 0.2192 - val_accuracy: 0.9362\n",
      "Epoch 12/30\n",
      "37/36 [==============================] - 21s 577ms/step - loss: 0.0727 - accuracy: 0.9729 - val_loss: 0.2019 - val_accuracy: 0.9331\n",
      "Epoch 13/30\n",
      "37/36 [==============================] - 21s 576ms/step - loss: 0.0470 - accuracy: 0.9856 - val_loss: 0.1890 - val_accuracy: 0.9453\n",
      "Epoch 14/30\n",
      "37/36 [==============================] - 21s 576ms/step - loss: 0.0770 - accuracy: 0.9738 - val_loss: 0.2263 - val_accuracy: 0.9422\n",
      "Epoch 15/30\n",
      "37/36 [==============================] - 21s 574ms/step - loss: 0.0679 - accuracy: 0.9755 - val_loss: 0.1586 - val_accuracy: 0.9453\n",
      "Epoch 16/30\n",
      "37/36 [==============================] - 21s 573ms/step - loss: 0.0471 - accuracy: 0.9814 - val_loss: 0.2621 - val_accuracy: 0.9331\n",
      "Epoch 17/30\n",
      "37/36 [==============================] - 21s 578ms/step - loss: 0.0445 - accuracy: 0.9873 - val_loss: 0.2347 - val_accuracy: 0.9240\n",
      "Epoch 18/30\n",
      "37/36 [==============================] - 21s 571ms/step - loss: 0.0557 - accuracy: 0.9772 - val_loss: 0.0833 - val_accuracy: 0.9696\n",
      "Epoch 19/30\n",
      "37/36 [==============================] - 21s 572ms/step - loss: 0.0319 - accuracy: 0.9915 - val_loss: 0.1831 - val_accuracy: 0.9605\n",
      "Epoch 20/30\n",
      "37/36 [==============================] - 21s 569ms/step - loss: 0.0423 - accuracy: 0.9865 - val_loss: 0.1718 - val_accuracy: 0.9544\n",
      "Epoch 21/30\n",
      "37/36 [==============================] - 21s 571ms/step - loss: 0.0313 - accuracy: 0.9907 - val_loss: 0.1412 - val_accuracy: 0.9483\n",
      "Epoch 22/30\n",
      "37/36 [==============================] - 21s 563ms/step - loss: 0.0257 - accuracy: 0.9907 - val_loss: 0.1078 - val_accuracy: 0.9574\n",
      "Epoch 23/30\n",
      "37/36 [==============================] - 21s 571ms/step - loss: 0.0356 - accuracy: 0.9856 - val_loss: 0.1185 - val_accuracy: 0.9696\n",
      "Epoch 24/30\n",
      "37/36 [==============================] - 21s 571ms/step - loss: 0.0256 - accuracy: 0.9924 - val_loss: 0.1729 - val_accuracy: 0.9605\n",
      "Epoch 25/30\n",
      "37/36 [==============================] - 21s 574ms/step - loss: 0.0232 - accuracy: 0.9941 - val_loss: 0.1675 - val_accuracy: 0.9483\n",
      "Epoch 26/30\n",
      "37/36 [==============================] - 21s 577ms/step - loss: 0.0232 - accuracy: 0.9907 - val_loss: 0.1487 - val_accuracy: 0.9605\n",
      "Epoch 27/30\n",
      "37/36 [==============================] - 21s 578ms/step - loss: 0.0308 - accuracy: 0.9898 - val_loss: 0.1119 - val_accuracy: 0.9635\n",
      "Epoch 28/30\n",
      "37/36 [==============================] - 21s 575ms/step - loss: 0.0248 - accuracy: 0.9907 - val_loss: 0.1344 - val_accuracy: 0.9574\n",
      "Epoch 29/30\n",
      "37/36 [==============================] - 21s 572ms/step - loss: 0.0224 - accuracy: 0.9907 - val_loss: 0.1698 - val_accuracy: 0.9635\n",
      "Epoch 30/30\n",
      "37/36 [==============================] - 21s 578ms/step - loss: 0.0187 - accuracy: 0.9932 - val_loss: 0.0959 - val_accuracy: 0.9726\n"
     ]
    },
    {
     "data": {
      "text/plain": [
       "<tensorflow.python.keras.callbacks.History at 0x7f98004c6c88>"
      ]
     },
     "execution_count": 9,
     "metadata": {},
     "output_type": "execute_result"
    }
   ],
   "source": [
    "model.fit(train_it,\n",
    "          validation_data=valid_it,\n",
    "          steps_per_epoch=train_it.samples/train_it.batch_size,\n",
    "          validation_steps=valid_it.samples/valid_it.batch_size,\n",
    "          epochs=30)"
   ]
  },
  {
   "cell_type": "markdown",
   "metadata": {},
   "source": [
    "## Unfreeze Model for Fine Tuning"
   ]
  },
  {
   "cell_type": "markdown",
   "metadata": {},
   "source": [
    "If you have reached 92% validation accuracy already, this next step is optional. If not, we suggest fine tuning the model with a very low learning rate."
   ]
  },
  {
   "cell_type": "code",
   "execution_count": 10,
   "metadata": {},
   "outputs": [],
   "source": [
    "# Unfreeze the base model\n",
    "base_model.trainable = True\n",
    "\n",
    "# Compile the model with a low learning rate\n",
    "model.compile(optimizer=keras.optimizers.RMSprop(learning_rate = .00001),\n",
    "              loss = \"categorical_crossentropy\" , metrics = ['accuracy'])"
   ]
  },
  {
   "cell_type": "code",
   "execution_count": 11,
   "metadata": {},
   "outputs": [
    {
     "name": "stdout",
     "output_type": "stream",
     "text": [
      "Epoch 1/20\n",
      "37/36 [==============================] - 40s 1s/step - loss: 0.0866 - accuracy: 0.9780 - val_loss: 0.1193 - val_accuracy: 0.9605\n",
      "Epoch 2/20\n",
      "37/36 [==============================] - 24s 650ms/step - loss: 0.0145 - accuracy: 0.9975 - val_loss: 0.1447 - val_accuracy: 0.9666\n",
      "Epoch 3/20\n",
      "37/36 [==============================] - 23s 627ms/step - loss: 0.0393 - accuracy: 0.9865 - val_loss: 0.1598 - val_accuracy: 0.9666\n",
      "Epoch 4/20\n",
      "37/36 [==============================] - 23s 623ms/step - loss: 0.0430 - accuracy: 0.9839 - val_loss: 0.0912 - val_accuracy: 0.9666\n",
      "Epoch 5/20\n",
      "37/36 [==============================] - 24s 639ms/step - loss: 0.0147 - accuracy: 0.9958 - val_loss: 0.1027 - val_accuracy: 0.9635\n",
      "Epoch 6/20\n",
      "37/36 [==============================] - 24s 640ms/step - loss: 0.0230 - accuracy: 0.9941 - val_loss: 0.2215 - val_accuracy: 0.9605\n",
      "Epoch 7/20\n",
      "37/36 [==============================] - 24s 640ms/step - loss: 0.0220 - accuracy: 0.9941 - val_loss: 0.1519 - val_accuracy: 0.9605\n",
      "Epoch 8/20\n",
      "37/36 [==============================] - 24s 639ms/step - loss: 0.0021 - accuracy: 1.0000 - val_loss: 0.1776 - val_accuracy: 0.9726\n",
      "Epoch 9/20\n",
      "37/36 [==============================] - 24s 643ms/step - loss: 0.0212 - accuracy: 0.9932 - val_loss: 0.1428 - val_accuracy: 0.9757\n",
      "Epoch 10/20\n",
      "37/36 [==============================] - 23s 627ms/step - loss: 0.0262 - accuracy: 0.9915 - val_loss: 0.0921 - val_accuracy: 0.9787\n",
      "Epoch 11/20\n",
      "37/36 [==============================] - 24s 645ms/step - loss: 0.0081 - accuracy: 0.9975 - val_loss: 0.1107 - val_accuracy: 0.9787\n",
      "Epoch 12/20\n",
      "37/36 [==============================] - 24s 643ms/step - loss: 0.0058 - accuracy: 0.9983 - val_loss: 0.1021 - val_accuracy: 0.9787\n",
      "Epoch 13/20\n",
      "37/36 [==============================] - 23s 632ms/step - loss: 0.0206 - accuracy: 0.9975 - val_loss: 0.1043 - val_accuracy: 0.9787\n",
      "Epoch 14/20\n",
      "37/36 [==============================] - 23s 626ms/step - loss: 0.0038 - accuracy: 0.9983 - val_loss: 0.0853 - val_accuracy: 0.9818\n",
      "Epoch 15/20\n",
      "37/36 [==============================] - 24s 636ms/step - loss: 0.0043 - accuracy: 0.9992 - val_loss: 0.1981 - val_accuracy: 0.9696\n",
      "Epoch 16/20\n",
      "37/36 [==============================] - 24s 639ms/step - loss: 0.0194 - accuracy: 0.9966 - val_loss: 0.1076 - val_accuracy: 0.9818\n",
      "Epoch 17/20\n",
      "37/36 [==============================] - 24s 638ms/step - loss: 1.2571e-04 - accuracy: 1.0000 - val_loss: 0.1305 - val_accuracy: 0.9818\n",
      "Epoch 18/20\n",
      "37/36 [==============================] - 23s 628ms/step - loss: 0.0013 - accuracy: 1.0000 - val_loss: 0.0499 - val_accuracy: 0.9848\n",
      "Epoch 19/20\n",
      "37/36 [==============================] - 24s 640ms/step - loss: 1.7699e-04 - accuracy: 1.0000 - val_loss: 0.1277 - val_accuracy: 0.9848\n",
      "Epoch 20/20\n",
      "37/36 [==============================] - 24s 640ms/step - loss: 0.0132 - accuracy: 0.9966 - val_loss: 0.2821 - val_accuracy: 0.9666\n"
     ]
    },
    {
     "data": {
      "text/plain": [
       "<tensorflow.python.keras.callbacks.History at 0x7f979c3f8400>"
      ]
     },
     "execution_count": 11,
     "metadata": {},
     "output_type": "execute_result"
    }
   ],
   "source": [
    "model.fit(train_it,\n",
    "          validation_data=valid_it,\n",
    "          steps_per_epoch=train_it.samples/train_it.batch_size,\n",
    "          validation_steps=valid_it.samples/valid_it.batch_size,\n",
    "          epochs=20)"
   ]
  },
  {
   "cell_type": "markdown",
   "metadata": {},
   "source": [
    "## Evaluate the Model"
   ]
  },
  {
   "cell_type": "markdown",
   "metadata": {},
   "source": [
    "Hopefully, you now have a model that has a validation accuracy of 92% or higher. If not, you may want to go back and either run more epochs of training, or adjust your data augmentation. \n",
    "\n",
    "Once you are satisfied with the validation accuracy, evaluate the model by executing the following cell. The evaluate function will return a tuple, where the first value is your loss, and the second value is your accuracy. To pass, the model will need have an accuracy value of `92% or higher`. "
   ]
  },
  {
   "cell_type": "code",
   "execution_count": 12,
   "metadata": {},
   "outputs": [
    {
     "name": "stdout",
     "output_type": "stream",
     "text": [
      "11/10 [================================] - 4s 372ms/step - loss: 0.1841 - accuracy: 0.9818\n"
     ]
    },
    {
     "data": {
      "text/plain": [
       "[0.18406140804290771, 0.9817629456520081]"
      ]
     },
     "execution_count": 12,
     "metadata": {},
     "output_type": "execute_result"
    }
   ],
   "source": [
    "model.evaluate(valid_it, steps=valid_it.samples/valid_it.batch_size)"
   ]
  },
  {
   "cell_type": "markdown",
   "metadata": {},
   "source": [
    "## Run the Assessment"
   ]
  },
  {
   "cell_type": "markdown",
   "metadata": {},
   "source": [
    "To assess your model run the following two cells.\n",
    "\n",
    "**NOTE:** `run_assessment` assumes your model is named `model` and your validation data iterator is called `valid_it`. If for any reason you have modified these variable names, please update the names of the arguments passed to `run_assessment`."
   ]
  },
  {
   "cell_type": "code",
   "execution_count": 13,
   "metadata": {},
   "outputs": [],
   "source": [
    "from run_assessment import run_assessment"
   ]
  },
  {
   "cell_type": "code",
   "execution_count": 14,
   "metadata": {},
   "outputs": [
    {
     "name": "stdout",
     "output_type": "stream",
     "text": [
      "Evaluating model 5 times to obtain average accuracy...\n",
      "\n",
      "11/10 [================================] - 4s 373ms/step - loss: 0.2278 - accuracy: 0.9757\n",
      "11/10 [================================] - 4s 377ms/step - loss: 0.1817 - accuracy: 0.9696\n",
      "11/10 [================================] - 4s 382ms/step - loss: 0.2176 - accuracy: 0.9666\n",
      "11/10 [================================] - 5s 416ms/step - loss: 0.2381 - accuracy: 0.9787\n",
      "11/10 [================================] - 4s 370ms/step - loss: 0.2584 - accuracy: 0.9726\n",
      "\n",
      "Accuracy required to pass the assessment is 0.92 or greater.\n",
      "Your average accuracy is 0.9726.\n",
      "\n",
      "Congratulations! You passed the assessment!\n",
      "See instructions below to generate a certificate.\n"
     ]
    }
   ],
   "source": [
    "run_assessment(model, valid_it)"
   ]
  },
  {
   "cell_type": "markdown",
   "metadata": {},
   "source": [
    "## Generate a Certificate"
   ]
  },
  {
   "cell_type": "markdown",
   "metadata": {},
   "source": [
    "If you passed the assessment, please return to the course page (shown below) and click the \"ASSESS TASK\" button, which will generate your certificate for the course."
   ]
  },
  {
   "cell_type": "markdown",
   "metadata": {},
   "source": [
    "<img src=\"./images/assess_task.png\" style=\"width: 800px;\">"
   ]
  }
 ],
 "metadata": {
  "kernelspec": {
   "display_name": "Python 3",
   "language": "python",
   "name": "python3"
  },
  "language_info": {
   "codemirror_mode": {
    "name": "ipython",
    "version": 3
   },
   "file_extension": ".py",
   "mimetype": "text/x-python",
   "name": "python",
   "nbconvert_exporter": "python",
   "pygments_lexer": "ipython3",
   "version": "3.6.9"
  }
 },
 "nbformat": 4,
 "nbformat_minor": 4
}
